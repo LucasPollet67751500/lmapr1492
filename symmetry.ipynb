{
 "cells": [
  {
   "cell_type": "code",
   "execution_count": 1,
   "metadata": {},
   "outputs": [
    {
     "name": "stdout",
     "output_type": "stream",
     "text": [
      "Start CIF downloading...\n",
      "Downloading completed\n"
     ]
    }
   ],
   "source": [
    "from pymatgen.ext.matproj import MPRester\n",
    "from pymatgen.io.cif import CifWriter\n",
    "\n",
    "print(\"Start CIF downloading...\")\n",
    "\n",
    "with MPRester(\"kljjGo7W1D4tHy5OZy\") as m:\n",
    "\n",
    "    # Structure for material id\n",
    "    structure = m.get_structure_by_material_id(\"mp-567290\")\n",
    "\n",
    "    # Dos for material id\n",
    "    dos = m.get_dos_by_material_id(\"mp-567290\")\n",
    "\n",
    "    # Bandstructure for material id\n",
    "    bandstructure = m.get_bandstructure_by_material_id(\"mp-567290\")\n",
    "\n",
    "    CifWriter(structure,0.1,write_magmoms=False).write_file(\"LaN_mp-567290_symmetrized.cif\")\n",
    "    print(\"Downloading completed\")"
   ]
  },
  {
   "cell_type": "markdown",
   "metadata": {},
   "source": [
    "# Analyse de la symétrie du cristal\n",
    "Trois éléments de symétrie du cristal *LaN* seront étudiés parmi les 12 du fichier CIF. Chacune des opérations sera appliquée à un atome différent.\n",
    "\n",
    "### 1. Plan miroire\n",
    "L’élément de symétrie numéro 8 du fichier CIF est un plan miroire de direction $(0,\\bar{1},0)$ d’après le rèpère xyz (L’axe des x est confondu avec l’arête rouge (a), l’axe des y est confondu avec l’arête verte (b) et l’axe des z est confondu avec l’arête bleu (c)). L’application de cette symétrie à un atome positionné en (x,y,z) l’envoie sur son atome correspondant à la position $(x,x-y,z)$ . La matrice qui est associée à cet élément de symétrie est :\n",
    "\n",
    "$$ S_8 = \\begin{pmatrix}\n",
    "   1 & 0 & 0 \\\\\n",
    "   1 & -1 & 0 \\\\\n",
    "   0 & 0 & 1\n",
    "\\end{pmatrix}$$\n",
    "\n",
    "Sur la figure ci-dessous, vous pouvez observer son application à un atome de lanthane situé en $(\\frac{1}{3},\\frac{2}{3},1)$.  La flèche turquoise, de direction $(0,\\bar{1},0)$, représente le lien entre l’atome et son image. Le plan miroir est représenté en vert.\n",
    "\n",
    "![](lmapr1492/sym1.png)\n",
    "\n",
    "\n",
    "### 2. Axe de rotation d’ordre 3\n",
    "L’élément de symétrie numéro 3 du fichier CIF est un axe de rotation d’ordre 3 et de direction $(0,0,1)$ d’après le rèpère xyz (L’axe des x est confondu avec l’arête rouge (a), l’axe des y est confondu avec l’arête verte (b) et l’axe des z est confondu avec l’arête bleu (c)). L’application de cette symétrie à un atome positionné en $(x,y,z)$ l’envoie sur son atome correspondant à la position $(-y,x-y,z)$. La matrice qui est associée à cet élément de symétrie est :\n",
    "\n",
    "$$ S_3 = \\begin{pmatrix}\n",
    "   0 & -1 & 0 \\\\\n",
    "   1 & -1 & 0 \\\\\n",
    "   0 & 0 & 1\n",
    "\\end{pmatrix}$$\n",
    "\n",
    "Sur la figure ci-dessous, vous pouvez observer son application à un atome d'azote situé en $(\\frac{2}{3},\\frac{1}{3},0.91)$. L’élément de symétrie (axe de rotation) est représenté en rouge tout comme l’autre axe représentant le lien entre l’atome et son image.\n",
    "\n",
    "![](lmapr1492/sym2.png)\n",
    "\n",
    "\n",
    "### 3. Axe de rotation d’ordre 3\n",
    "L’élément de symétrie numéro 5 du fichier CIF est un axe de rotation d’ordre 3 et de direction $(0,0,1)$ d’après le rèpère xyz (L’axe des x est confondu avec l’arête rouge (a), l’axe des y est confondu avec l’arête verte (b) et l’axe des z est confondu avec l’arête bleu (c)). L’application de cette symétrie à un atome positionné en (x,y,z) l’envoie sur son atome correspondant à la position $(-x+y,-x,z)$. La matrice qui est associée à cet élément de symétrie est :\n",
    "\n",
    "$$ S_3 = \\begin{pmatrix}\n",
    "   -1 & 1 & 0 \\\\\n",
    "   -1 & 0 & 0 \\\\\n",
    "   0 & 0 & 1\n",
    "\\end{pmatrix}$$\n",
    "\n",
    "Sur la figure ci-dessous, vous pouvez observer son application à un atome de lanthane situé en $(\\frac{2}{3},\\frac{1}{3},\\frac{1}{2})$. L’élément de symétrie (axe de rotation) est représenté en rouge tout comme l’autre axe représentant le lien entre l’atome et son image.\n",
    "\n",
    "![](lmapr1492/sym3.png)"
   ]
  },
  {
   "cell_type": "code",
   "execution_count": null,
   "metadata": {
    "scrolled": true
   },
   "outputs": [],
   "source": [
    "# Code utilisé:\n",
    "from pymatgen.symmetry.analyzer import SpacegroupAnalyzer\n",
    "from pymatgen.core.operations import SymmOp\n",
    "\n",
    "symmop = m.get_symmetry_operations() # On obtient une liste des différentes opérations de symétrie \n",
    "\n",
    "# En choisissant un élément de symétrie de la liste, on utilise operate() de la la class SymmOp sur un point\n",
    "# (position d'un atome choisi).\n",
    "point = symmop(i)\n",
    "Operate(point) # Renvoie la postion image due à l'opération de symétrie."
   ]
  },
  {
   "cell_type": "code",
   "execution_count": null,
   "metadata": {},
   "outputs": [],
   "source": []
  }
 ],
 "metadata": {
  "kernelspec": {
   "display_name": "Python 3",
   "language": "python",
   "name": "python3"
  },
  "language_info": {
   "codemirror_mode": {
    "name": "ipython",
    "version": 3
   },
   "file_extension": ".py",
   "mimetype": "text/x-python",
   "name": "python",
   "nbconvert_exporter": "python",
   "pygments_lexer": "ipython3",
   "version": "3.6.8"
  }
 },
 "nbformat": 4,
 "nbformat_minor": 2
}
