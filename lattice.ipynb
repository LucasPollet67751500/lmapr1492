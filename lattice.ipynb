{
 "cells": [
  {
   "cell_type": "code",
   "execution_count": 1,
   "metadata": {},
   "outputs": [
    {
     "name": "stdout",
     "output_type": "stream",
     "text": [
      "Start boring CIF downloading...\n",
      "Boring download completed, ciao!\n"
     ]
    }
   ],
   "source": [
    "from pymatgen.ext.matproj import MPRester\n",
    "from pymatgen.io.cif import CifWriter\n",
    "\n",
    "print(\"Start boring CIF downloading...\")\n",
    "\n",
    "with MPRester(\"kljjGo7W1D4tHy5OZy\") as m:\n",
    "\n",
    "    # Structure for material id\n",
    "    structure = m.get_structure_by_material_id(\"mp-567290\")\n",
    "\n",
    "    # Dos for material id\n",
    "    dos = m.get_dos_by_material_id(\"mp-567290\")\n",
    "\n",
    "    # Bandstructure for material id\n",
    "    bandstructure = m.get_bandstructure_by_material_id(\"mp-567290\")\n",
    "\n",
    "    CifWriter(structure,0.1,write_magmoms=False).write_file(\"LaN_mp-567290_symmetrized.cif\")\n",
    "    print(\"Boring download completed, ciao!\")"
   ]
  },
  {
   "cell_type": "code",
   "execution_count": 9,
   "metadata": {},
   "outputs": [],
   "source": [
    "lattice = get_structure_lattice(\"mp-567290\")\n",
    "lattice_reciprocal = get_structure_lattice_reciprocal(\"mp-567290\")\n",
    "\n",
    "# Les vecteurs de bases sont a1 , a2 et a3\n",
    "# Les angles formés par ces vecteurs de bases sont alpha=beta=90° et gamma=120°\n",
    "# Nous somme donc dans le cas d'une maile primitive hexagonal\n",
    "# Les aretes formant la maille conventionnelle sont de longueurs a=b=4.133A° et c=5.96A°\n",
    "\n",
    "#Le volume de la maille primitive est donné par Omega = a1 * (a2 x a3)\n",
    "# On a donc les vecteurs de base du réseau réciproque:\n",
    "#   a1° = (2pi/Omega) (a2 x a3)\n",
    "#   a2° = (2pi/Omega) (a3 x a1)\n",
    "#   a3° = (2pi/Omega) (a1 x a2)\n",
    "\n",
    "#Groupe spatial P63mc (n°186) , groupe ponctuel 6mm\n",
    "\n",
    "from pymatgen.symmetry.analyzer import SpacegroupAnalyzer\n",
    "\n",
    "with SpacegroupAnalyzer(structure) as lan\n",
    "\n",
    "lan.find_primitive()\n",
    "lan.get_crystal_system().get_ir_reciprocal_mesh(mesh=(10, 10, 10), is_shift=(0, 0, 0))\n",
    "lan.get_lattice_type()\n",
    "lan.get_point_group_symbol()\n",
    "lan.get_primitive_standard_structure(international_monoclinic=True)\n",
    "lan.get_space_group_number()\n",
    "lan.get_space_group_symbol()"
   ]
  },
  {
   "cell_type": "code",
   "execution_count": null,
   "metadata": {},
   "outputs": [],
   "source": []
  }
 ],
 "metadata": {
  "kernelspec": {
   "display_name": "Python 3",
   "language": "python",
   "name": "python3"
  },
  "language_info": {
   "codemirror_mode": {
    "name": "ipython",
    "version": 3
   },
   "file_extension": ".py",
   "mimetype": "text/x-python",
   "name": "python",
   "nbconvert_exporter": "python",
   "pygments_lexer": "ipython3",
   "version": "3.6.8"
  }
 },
 "nbformat": 4,
 "nbformat_minor": 2
}
